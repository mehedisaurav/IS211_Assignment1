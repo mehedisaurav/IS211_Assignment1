{
  "nbformat": 4,
  "nbformat_minor": 0,
  "metadata": {
    "colab": {
      "name": "assignment1_part2",
      "version": "0.3.2",
      "provenance": []
    },
    "kernelspec": {
      "name": "python3",
      "display_name": "Python 3"
    }
  },
  "cells": [
    {
      "cell_type": "code",
      "metadata": {
        "id": "QJX-dCyRz_Sn",
        "colab_type": "code",
        "colab": {}
      },
      "source": [
        "class Book:\n",
        "  author = \"\"\n",
        "  title = \"\"\n",
        "  \n",
        "  def __init__(self, title, author):    \n",
        "    self.title = title\n",
        "    self.author = author\n",
        "  \n",
        "  def display(self):\n",
        "    return  self.title+\", written by \"+self.author\n",
        "    \n",
        "  "
      ],
      "execution_count": 0,
      "outputs": []
    },
    {
      "cell_type": "code",
      "metadata": {
        "id": "sko8UVXn2ZZh",
        "colab_type": "code",
        "colab": {
          "base_uri": "https://localhost:8080/",
          "height": 51
        },
        "outputId": "f0d84913-6736-49d8-e198-245aabf97045"
      },
      "source": [
        "book1 = Book(\"'Of Mice and Men'\",\"John Steinbeck\")\n",
        "book2 = Book(\"'To Kill a Mockingbird'\",\"Harper Lee\")\n",
        "\n",
        "print(book1.display())\n",
        "print(book2.display())"
      ],
      "execution_count": 25,
      "outputs": [
        {
          "output_type": "stream",
          "text": [
            "'Of Mice and Men', written by John Steinbeck\n",
            "'To Kill a Mockingbird', written by Harper Lee\n"
          ],
          "name": "stdout"
        }
      ]
    },
    {
      "cell_type": "code",
      "metadata": {
        "id": "dBsRXBwG4dEi",
        "colab_type": "code",
        "colab": {}
      },
      "source": [
        ""
      ],
      "execution_count": 0,
      "outputs": []
    }
  ]
}